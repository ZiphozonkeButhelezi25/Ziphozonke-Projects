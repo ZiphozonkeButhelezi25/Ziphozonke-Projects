{
 "cells": [
  {
   "cell_type": "markdown",
   "id": "320798b9-013f-4d9c-8bcd-86f4ebc3f5a5",
   "metadata": {
    "panel-layout": {
     "height": 10,
     "visible": true,
     "width": 100
    }
   },
   "source": [
    "# Data Science Tools and Ecosystem"
   ]
  },
  {
   "cell_type": "markdown",
   "id": "d4e57361-29e5-4fb1-8839-af9231ca6113",
   "metadata": {},
   "source": [
    "In this notebook, Data Science Tools and Ecosystem are summarized."
   ]
  },
  {
   "cell_type": "markdown",
   "id": "33fea6ce-aee9-4fa9-85e3-08655dd217fa",
   "metadata": {},
   "source": [
    "Some of the popular languages that Data Scientists use are:\n",
    "\n",
    "1. SQL\n",
    "2. Python\n",
    "3. R\n",
    "4. Java\n",
    "5. C++"
   ]
  },
  {
   "cell_type": "markdown",
   "id": "5b7dbc06-582f-43b4-a3f2-97e8128ac1a8",
   "metadata": {},
   "source": [
    "Some of the commonly used libraries used by Data Scientists include:\n",
    "\n",
    "1. NumPy\n",
    "2. TensorFlow\n",
    "3. Pandas\n",
    "4. PyTorch\n",
    "5. Keras\n",
    "6. Matplotlib"
   ]
  },
  {
   "cell_type": "markdown",
   "id": "d91d9f4f-47f5-460f-8faa-2eb00654c8f1",
   "metadata": {},
   "source": [
    "|Data Science Tools|\n",
    "|---|\n",
    "|TesorFlow|\n",
    "|SAS|\n",
    "|Apache Hadoop|"
   ]
  },
  {
   "cell_type": "markdown",
   "id": "4d8f93e1-c227-4244-ad62-9f534e148390",
   "metadata": {},
   "source": [
    "### Below are a few examples of evaluating arithmetic expressions in Python"
   ]
  },
  {
   "cell_type": "code",
   "execution_count": 1,
   "id": "f4183c85-dd66-41d9-87f2-3084de68aed8",
   "metadata": {},
   "outputs": [
    {
     "data": {
      "text/plain": [
       "17"
      ]
     },
     "execution_count": 1,
     "metadata": {},
     "output_type": "execute_result"
    }
   ],
   "source": [
    "#This a simple arithmetic expression to mutiply then add integers\n",
    "(3*4)+5"
   ]
  },
  {
   "cell_type": "code",
   "execution_count": 2,
   "id": "e83bf2c0-53db-485f-b0c4-6067657e803e",
   "metadata": {},
   "outputs": [
    {
     "data": {
      "text/plain": [
       "3.3333333333333335"
      ]
     },
     "execution_count": 2,
     "metadata": {},
     "output_type": "execute_result"
    }
   ],
   "source": [
    "#This will convert 200 minutes to hours by diving by 60\n",
    "200/60"
   ]
  },
  {
   "cell_type": "markdown",
   "id": "daa087a5-b12a-4da5-9921-f609cb82f6e8",
   "metadata": {},
   "source": [
    "__Objectives__\n",
    "* List data science languages\n",
    "* List data science libraries\n",
    "* Table of Data Science tools\n",
    "* Introducing arithmetic expression examples\n",
    "* Convert minutes to hours"
   ]
  },
  {
   "cell_type": "markdown",
   "id": "b020a72a-6d4e-40c8-ad1c-0099dc069219",
   "metadata": {},
   "source": [
    "## Author\n",
    "Ziphozonke Nduduzo Buthelezi"
   ]
  }
 ],
 "metadata": {
  "kernelspec": {
   "display_name": "Python 3 (ipykernel)",
   "language": "python",
   "name": "python3"
  },
  "language_info": {
   "codemirror_mode": {
    "name": "ipython",
    "version": 3
   },
   "file_extension": ".py",
   "mimetype": "text/x-python",
   "name": "python",
   "nbconvert_exporter": "python",
   "pygments_lexer": "ipython3",
   "version": "3.12.7"
  },
  "panel-cell-order": [
   "320798b9-013f-4d9c-8bcd-86f4ebc3f5a5"
  ]
 },
 "nbformat": 4,
 "nbformat_minor": 5
}
